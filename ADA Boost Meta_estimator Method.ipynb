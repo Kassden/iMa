{
 "cells": [
  {
   "cell_type": "code",
   "execution_count": 4,
   "metadata": {},
   "outputs": [],
   "source": [
    "import matplotlib as plt\n",
    "import numpy as np\n",
    "import pandas as pd\n",
    "\n",
    "from joblib import load\n",
    "\n",
    "from sklearn.model_selection import cross_val_predict\n",
    "from sklearn.metrics import confusion_matrix\n",
    "from sklearn.metrics import classification_report\n",
    "from sklearn.metrics import confusion_matrix, ConfusionMatrixDisplay"
   ]
  },
  {
   "cell_type": "code",
   "execution_count": 7,
   "metadata": {},
   "outputs": [],
   "source": [
    "logreg_import = load('logreg_poly.joblib')\n",
    "neural_import = load('nn.joblib')\n",
    "gradient_import = load('gbc.joblib')\n",
    "decitree_import = load('dtc.joblib')\n",
    "randofor_import = load('rfc.joblib')\n",
    "stocha_import = load('sgdc.joblib')\n",
    "linsvm_import = load('lsvc.joblib')\n",
    "passaggr_import = load('pac.joblib')\n",
    "ridgy_import = load('rdgc.joblib')\n",
    "hisgra_import = load('hgbc_poly.joblib')\n",
    "\n",
    "poly_std_train = np.load('/Users/mk2/Desktop/iMa/Model/std_pca_poly_train.npy')\n",
    "poly_std_test = np.load('/Users/mk2/Desktop/iMa/Model/std_pca_poly_test.npy')\n",
    "\n",
    "train_group1 = pd.read_csv('/Users/mk2/Desktop/iMa/Model/train_group1.csv',index_col=[0,1])\n",
    "test_group1 = pd.read_csv('/Users/mk2/Desktop/iMa/Model/test_group1.csv',index_col=[0,1])\n",
    "\n",
    "train_label1 = pd.read_csv('/Users/mk2/Desktop/iMa/Model/train_label1.csv',index_col=[0,1])\n",
    "test_label1 = pd.read_csv('/Users/mk2/Desktop/iMa/Model/test_label1.csv',index_col=[0,1])"
   ]
  },
  {
   "cell_type": "code",
   "execution_count": null,
   "metadata": {},
   "outputs": [
    {
     "name": "stderr",
     "output_type": "stream",
     "text": [
      "/Users/mk2/opt/anaconda3/envs/no_base/lib/python3.8/site-packages/sklearn/utils/validation.py:63: DataConversionWarning: A column-vector y was passed when a 1d array was expected. Please change the shape of y to (n_samples, ), for example using ravel().\n",
      "  return f(*args, **kwargs)\n"
     ]
    }
   ],
   "source": [
    "from sklearn.ensemble import AdaBoostClassifier\n",
    "\n",
    "ada_logreg = AdaBoostClassifier(base_estimator=gradient_import, n_estimators=50, learning_rate=1.0, \n",
    "                                algorithm='SAMME.R', random_state=None)\n",
    "\n",
    "ada_logreg.fit(poly_std_train,train_label1)\n",
    "\n",
    "prediction_logreg = ada_logreg.predict(poly_std_test)\n",
    "print(classification_report(test_label1, prediction_logreg))"
   ]
  },
  {
   "cell_type": "code",
   "execution_count": null,
   "metadata": {},
   "outputs": [],
   "source": [
    "cm_logreg = confusion_matrix(test_label1, prediction_logreg)\n",
    "disp = ConfusionMatrixDisplay(confusion_matrix=cm_logreg)\n",
    "disp.plot()"
   ]
  },
  {
   "cell_type": "code",
   "execution_count": null,
   "metadata": {},
   "outputs": [],
   "source": []
  }
 ],
 "metadata": {
  "kernelspec": {
   "display_name": "Python 3",
   "language": "python",
   "name": "python3"
  },
  "language_info": {
   "codemirror_mode": {
    "name": "ipython",
    "version": 3
   },
   "file_extension": ".py",
   "mimetype": "text/x-python",
   "name": "python",
   "nbconvert_exporter": "python",
   "pygments_lexer": "ipython3",
   "version": "3.8.5"
  }
 },
 "nbformat": 4,
 "nbformat_minor": 4
}
