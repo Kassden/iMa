{
 "cells": [
  {
   "cell_type": "markdown",
   "metadata": {},
   "source": [
    "sklearn.ensemble.ExtraTreesClassifier\n",
    "\n",
    "sklearn.ensemble.VotingClassifier\n",
    "\n",
    "sklearn.gaussian_process.GaussianProcessClassifier\n",
    "\n",
    "sklearn.multiclass.OneVsOneClassifier\n",
    "\n",
    "sklearn.multiclass.OneVsRestClassifier\n",
    "\n",
    "sklearn.multiclass.OutputCodeClassifier\n",
    "\n",
    "sklearn.multioutput.ClassifierChain\n",
    "\n",
    "sklearn.multioutput.MultiOutputClassifier\n",
    "\n",
    "sklearn.neighbors.KNeighborsClassifier\n",
    "\n",
    "sklearn.neighbors.RadiusNeighborsClassifier\n",
    "\n",
    "sklearn.semi_supervised.SelfTrainingClassifier\n",
    "\n",
    "sklearn.tree.ExtraTreeClassifier\n",
    "\n",
    "from sklearn.discriminant_analysis.QuadraticDiscriminantAnalysis"
   ]
  }
 ],
 "metadata": {
  "kernelspec": {
   "display_name": "Python 3",
   "language": "python",
   "name": "python3"
  },
  "language_info": {
   "codemirror_mode": {
    "name": "ipython",
    "version": 3
   },
   "file_extension": ".py",
   "mimetype": "text/x-python",
   "name": "python",
   "nbconvert_exporter": "python",
   "pygments_lexer": "ipython3",
   "version": "3.8.5"
  }
 },
 "nbformat": 4,
 "nbformat_minor": 4
}
