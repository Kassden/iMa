{
 "cells": [
  {
   "cell_type": "code",
   "execution_count": 1,
   "metadata": {},
   "outputs": [],
   "source": [
    "import matplotlib as plt\n",
    "import numpy as np\n",
    "import pandas as pd\n",
    "\n",
    "from joblib import load\n",
    "\n",
    "from sklearn.model_selection import cross_val_predict\n",
    "from sklearn.metrics import confusion_matrix\n",
    "from sklearn.metrics import classification_report\n",
    "from sklearn.metrics import confusion_matrix, ConfusionMatrixDisplay"
   ]
  },
  {
   "cell_type": "code",
   "execution_count": 14,
   "metadata": {},
   "outputs": [],
   "source": [
    "logreg_import = load('logreg_poly.joblib')\n",
    "neural_import = load('nn.joblib')\n",
    "gradient_import = load('gbc.joblib')\n",
    "decitree_import = load('dtc.joblib')\n",
    "randofor_import = load('rfc.joblib')\n",
    "stocha_import = load('sgdc.joblib')\n",
    "linsvm_import = load('lsvc.joblib')\n",
    "passaggr_import = load('pac.joblib')\n",
    "ridgy_import = load('rdgc.joblib')\n",
    "hisgra_import = load('hgbc_poly.joblib')\n",
    "\n",
    "poly_std_train = np.load('/Users/mk2/Desktop/iMa/Model/std_pca_poly_train.npy')\n",
    "poly_std_test = np.load('/Users/mk2/Desktop/iMa/Model/std_pca_poly_test.npy')\n",
    "\n",
    "train_group1 = pd.read_csv('/Users/mk2/Desktop/iMa/Model/train_group1.csv',index_col=[0,1])\n",
    "test_group1 = pd.read_csv('/Users/mk2/Desktop/iMa/Model/test_group1.csv',index_col=[0,1])\n",
    "\n",
    "train_label1 = pd.read_csv('/Users/mk2/Desktop/iMa/Model/train_label1.csv',index_col=[0,1])\n",
    "test_label1 = pd.read_csv('/Users/mk2/Desktop/iMa/Model/test_label1.csv',index_col=[0,1])"
   ]
  },
  {
   "cell_type": "markdown",
   "metadata": {},
   "source": [
    "### calibrated logreg"
   ]
  },
  {
   "cell_type": "code",
   "execution_count": 15,
   "metadata": {},
   "outputs": [
    {
     "name": "stderr",
     "output_type": "stream",
     "text": [
      "/Users/mk2/opt/anaconda3/envs/no_base/lib/python3.8/site-packages/sklearn/utils/validation.py:63: DataConversionWarning: A column-vector y was passed when a 1d array was expected. Please change the shape of y to (n_samples, ), for example using ravel().\n",
      "  return f(*args, **kwargs)\n"
     ]
    },
    {
     "name": "stdout",
     "output_type": "stream",
     "text": [
      "              precision    recall  f1-score   support\n",
      "\n",
      "           0       0.83      0.92      0.87     11526\n",
      "           1       0.61      0.39      0.48      3618\n",
      "\n",
      "    accuracy                           0.79     15144\n",
      "   macro avg       0.72      0.66      0.67     15144\n",
      "weighted avg       0.78      0.79      0.78     15144\n",
      "\n"
     ]
    }
   ],
   "source": [
    "from sklearn.calibration import CalibratedClassifierCV\n",
    "\n",
    "calibrated_logreg = CalibratedClassifierCV(base_estimator=logreg_import,\n",
    "                                    method='sigmoid', cv=None, n_jobs=None, ensemble=True)\n",
    "calibrated_logreg.fit(poly_std_train,train_label1)\n",
    "\n",
    "prediction_logreg = calibrated_logreg.predict(poly_std_test)\n",
    "print(classification_report(test_label1, prediction_logreg))"
   ]
  },
  {
   "cell_type": "code",
   "execution_count": 16,
   "metadata": {},
   "outputs": [
    {
     "data": {
      "text/plain": [
       "<sklearn.metrics._plot.confusion_matrix.ConfusionMatrixDisplay at 0x7f84b36cea00>"
      ]
     },
     "execution_count": 16,
     "metadata": {},
     "output_type": "execute_result"
    },
    {
     "data": {
      "image/png": "[encoded data removed]",
      "text/plain": [
       "<Figure size 432x288 with 2 Axes>"
      ]
     },
     "metadata": {
      "needs_background": "light"
     },
     "output_type": "display_data"
    }
   ],
   "source": [
    "cm_logreg = confusion_matrix(test_label1, prediction_logreg)\n",
    "disp = ConfusionMatrixDisplay(confusion_matrix=cm_logreg)\n",
    "disp.plot()"
   ]
  },
  {
   "cell_type": "markdown",
   "metadata": {},
   "source": [
    "### calibrated nn"
   ]
  },
  {
   "cell_type": "code",
   "execution_count": 8,
   "metadata": {},
   "outputs": [
    {
     "name": "stderr",
     "output_type": "stream",
     "text": [
      "/Users/mk2/opt/anaconda3/envs/no_base/lib/python3.8/site-packages/sklearn/utils/validation.py:63: DataConversionWarning: A column-vector y was passed when a 1d array was expected. Please change the shape of y to (n_samples, ), for example using ravel().\n",
      "  return f(*args, **kwargs)\n"
     ]
    },
    {
     "name": "stdout",
     "output_type": "stream",
     "text": [
      "              precision    recall  f1-score   support\n",
      "\n",
      "           0       0.78      0.97      0.87     11526\n",
      "           1       0.58      0.14      0.22      3618\n",
      "\n",
      "    accuracy                           0.77     15144\n",
      "   macro avg       0.68      0.55      0.54     15144\n",
      "weighted avg       0.73      0.77      0.71     15144\n",
      "\n"
     ]
    }
   ],
   "source": [
    "calibrated_nn = CalibratedClassifierCV(neural_import, cv=5)\n",
    "calibrated_nn.fit(poly_std_train,train_label1)\n",
    "\n",
    "prediction_nn = calibrated_nn.predict(poly_std_test)\n",
    "print(classification_report(test_label1, prediction_nn))"
   ]
  },
  {
   "cell_type": "code",
   "execution_count": 9,
   "metadata": {},
   "outputs": [
    {
     "data": {
      "text/plain": [
       "<sklearn.metrics._plot.confusion_matrix.ConfusionMatrixDisplay at 0x7f84d987c760>"
      ]
     },
     "execution_count": 9,
     "metadata": {},
     "output_type": "execute_result"
    },
    {
     "data": {
      "image/png": "[encoded data removed]",
      "text/plain": [
       "<Figure size 432x288 with 2 Axes>"
      ]
     },
     "metadata": {
      "needs_background": "light"
     },
     "output_type": "display_data"
    }
   ],
   "source": [
    "cm_nn = confusion_matrix(test_label1, prediction_nn)\n",
    "disp = ConfusionMatrixDisplay(confusion_matrix=cm_nn)\n",
    "disp.plot()"
   ]
  },
  {
   "cell_type": "code",
   "execution_count": null,
   "metadata": {},
   "outputs": [],
   "source": []
  }
 ],
 "metadata": {
  "kernelspec": {
   "display_name": "Python 3",
   "language": "python",
   "name": "python3"
  },
  "language_info": {
   "codemirror_mode": {
    "name": "ipython",
    "version": 3
   },
   "file_extension": ".py",
   "mimetype": "text/x-python",
   "name": "python",
   "nbconvert_exporter": "python",
   "pygments_lexer": "ipython3",
   "version": "3.8.5"
  }
 },
 "nbformat": 4,
 "nbformat_minor": 4
}
