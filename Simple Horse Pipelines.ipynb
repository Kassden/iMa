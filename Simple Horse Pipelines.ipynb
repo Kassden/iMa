{
 "cells": [
  {
   "cell_type": "code",
   "execution_count": 1,
   "metadata": {},
   "outputs": [],
   "source": [
    "import pandas as pd\n",
    "import numpy as np\n",
    "\n",
    "from sklearn.pipeline import Pipeline\n",
    "from sklearn.decomposition import PCA\n",
    "from sklearn.preprocessing import PolynomialFeatures\n",
    "from sklearn.preprocessing import StandardScaler\n",
    "\n",
    "from sklearn.experimental import enable_iterative_imputer\n",
    "from sklearn.impute import IterativeImputer\n",
    "\n",
    "from sklearn.impute import KNNImputer\n",
    "from sklearn.impute import SimpleImputer"
   ]
  },
  {
   "cell_type": "code",
   "execution_count": 2,
   "metadata": {},
   "outputs": [],
   "source": [
    "train_set1 = pd.read_csv('/home/goblin1732/Desktop/iMa_linux/train_set1.csv',index_col=[0,1])\n",
    "test_set1 = pd.read_csv('/home/goblin1732/Desktop/iMa_linux/test_set1.csv',index_col=[0,1])\n",
    "\n",
    "train_label1 = pd.read_csv('/home/goblin1732/Desktop/iMa_linux/train_label1.csv',index_col=[0,1])\n",
    "test_label1 = pd.read_csv('/home/goblin1732/Desktop/iMa_linux/test_label1.csv',index_col=[0,1])"
   ]
  },
  {
   "cell_type": "markdown",
   "metadata": {},
   "source": [
    "## Polynomial Pipeline"
   ]
  },
  {
   "cell_type": "code",
   "execution_count": 3,
   "metadata": {},
   "outputs": [],
   "source": [
    "num_pipeline = Pipeline([\n",
    "\n",
    "    \n",
    "    #('poly_kernel', PolynomialCountSketch(gamma=1.0, degree=6, coef0=0, n_components=100, random_state=None)),\n",
    "    \n",
    "    #(\"std_scaler\", StandardScaler(copy=True, with_mean=True, with_std=True)),\n",
    "    \n",
    "    #('knn_imputer',KNNImputer(n_neighbors = 12, weights=\"uniform\", add_indicator=True)),\n",
    "    \n",
    "    ('simple_imputer',SimpleImputer(strategy = \"median\",add_indicator=True)),\n",
    "\n",
    "    ('poly', PolynomialFeatures(degree=6, interaction_only=False, include_bias=True, order='C')),\n",
    "    \n",
    "    #(\"std_scaler1\", StandardScaler(copy=True, with_mean=True, with_std=True)),\n",
    "    \n",
    "    \n",
    "       \n",
    "])  \n",
    "\n"
   ]
  },
  {
   "cell_type": "code",
   "execution_count": 5,
   "metadata": {},
   "outputs": [],
   "source": [
    "#from joblib import parallel_backend\n",
    "#with parallel_backend('threading', n_jobs=3):\n",
    "\n",
    "std_pca_poly_train = num_pipeline.fit_transform(train_set1)\n",
    "std_pca_poly_test = num_pipeline.fit_transform(test_set1)\n"
   ]
  },
  {
   "cell_type": "code",
   "execution_count": 6,
   "metadata": {},
   "outputs": [],
   "source": [
    "np.save('/home/goblin1732/Desktop/iMa_linux/std_pca_poly_train.npy',std_pca_poly_train)\n",
    "np.save('/home/goblin1732/Desktop/iMa_linux/std_pca_poly_test.npy',std_pca_poly_test)"
   ]
  },
  {
   "cell_type": "markdown",
   "metadata": {},
   "source": [
    "## Linear Pipeline"
   ]
  },
  {
   "cell_type": "code",
   "execution_count": 7,
   "metadata": {},
   "outputs": [],
   "source": [
    "no_poly = Pipeline([\n",
    "    \n",
    "    \n",
    "    ('simple_imputer',SimpleImputer(strategy = \"median\",add_indicator=True)),\n",
    "\n",
    "\n",
    "       \n",
    "])  \n",
    "\n",
    "std_train = no_poly.fit_transform(train_set1)\n",
    "std_test = no_poly.fit_transform(test_set1)"
   ]
  },
  {
   "cell_type": "code",
   "execution_count": 8,
   "metadata": {},
   "outputs": [],
   "source": [
    "np.save('/home/goblin1732/Desktop/iMa_linux/std_train.npy',std_train)\n",
    "np.save('/home/goblin1732/Desktop/iMa_linux/std_test.npy',std_test)"
   ]
  },
  {
   "cell_type": "markdown",
   "metadata": {},
   "source": [
    "## Cat/Num Linear Pipeline"
   ]
  },
  {
   "cell_type": "code",
   "execution_count": 9,
   "metadata": {},
   "outputs": [],
   "source": [
    "all_train_set = pd.read_csv('/home/goblin1732/Desktop/iMa_linux/all_train_set.csv',index_col=[0,1])\n",
    "all_test_set = pd.read_csv('/home/goblin1732/Desktop/iMa_linux/all_test_set.csv',index_col=[0,1])"
   ]
  },
  {
   "cell_type": "code",
   "execution_count": 10,
   "metadata": {},
   "outputs": [],
   "source": [
    "from sklearn.preprocessing import OneHotEncoder\n",
    "from sklearn.compose import ColumnTransformer"
   ]
  },
  {
   "cell_type": "code",
   "execution_count": 11,
   "metadata": {},
   "outputs": [
    {
     "data": {
      "text/plain": [
       "Index(['horse_no_y', 'horse_id', 'jockey_id', 'trainer_id', 'horse_age',\n",
       "       'declared_weight', 'actual_weight', 'draw', 'win_odds', 'place_odds',\n",
       "       'last_speed', 'avg_2last', 'won_odds', 'second_count', 'third_count',\n",
       "       'exp', 'raced', 'fin_time', 'prev_dist', 'race_class', 'horse_country',\n",
       "       'horse_type', 'horse_rating', 'horse_gear', 'cum_avg_prev_resu',\n",
       "       'prev_resu', 'prev_odds', 'prev_wt', 'prev_declar_wt'],\n",
       "      dtype='object')"
      ]
     },
     "execution_count": 11,
     "metadata": {},
     "output_type": "execute_result"
    }
   ],
   "source": [
    "all_train_set.columns"
   ]
  },
  {
   "cell_type": "code",
   "execution_count": 19,
   "metadata": {},
   "outputs": [],
   "source": [
    "numeric_features = ['horse_age', 'declared_weight','actual_weight','draw','win_odds','place_odds',\n",
    "                    'last_speed','avg_2last','won_odds','second_count','third_count','exp','fin_time',\n",
    "                   'prev_dist','cum_avg_prev_resu','prev_resu','prev_odds','prev_wt','prev_declar_wt',\n",
    "                   'horse_rating']\n",
    "\n",
    "numeric_transformer = Pipeline([\n",
    "    \n",
    "    ('imputer', SimpleImputer(strategy='median',add_indicator=True))\n",
    "    \n",
    "])\n",
    "\n",
    "categorical_features = ['horse_no_y', 'horse_id', 'raced','race_class','horse_gear','horse_country','horse_type',\n",
    "                       'jockey_id','trainer_id']\n",
    "\n",
    "categorical_transformer = OneHotEncoder(sparse=False, handle_unknown='ignore')\n",
    "\n",
    "preprocessor = ColumnTransformer(\n",
    "    transformers=[\n",
    "        ('num', numeric_transformer, numeric_features),\n",
    "        ('cat', categorical_transformer, categorical_features)])\n"
   ]
  },
  {
   "cell_type": "code",
   "execution_count": 20,
   "metadata": {
    "scrolled": true
   },
   "outputs": [],
   "source": [
    "all_attribs_train = preprocessor.fit_transform(all_train_set)\n",
    "all_attribs_test = preprocessor.fit_transform(all_test_set)"
   ]
  },
  {
   "cell_type": "code",
   "execution_count": 21,
   "metadata": {},
   "outputs": [],
   "source": [
    "np.save('/home/goblin1732/Desktop/iMa_linux/all_attribs_train.npy',all_attribs_train)\n",
    "np.save('/home/goblin1732/Desktop/iMa_linux/all_attribs_test.npy',all_attribs_test)"
   ]
  },
  {
   "cell_type": "code",
   "execution_count": null,
   "metadata": {},
   "outputs": [],
   "source": []
  }
 ],
 "metadata": {
  "kernelspec": {
   "display_name": "Python 3",
   "language": "python",
   "name": "python3"
  },
  "language_info": {
   "codemirror_mode": {
    "name": "ipython",
    "version": 3
   },
   "file_extension": ".py",
   "mimetype": "text/x-python",
   "name": "python",
   "nbconvert_exporter": "python",
   "pygments_lexer": "ipython3",
   "version": "3.8.5"
  }
 },
 "nbformat": 4,
 "nbformat_minor": 4
}
