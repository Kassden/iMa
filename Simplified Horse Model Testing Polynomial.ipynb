{
 "cells": [
  {
   "cell_type": "code",
   "execution_count": 1,
   "metadata": {},
   "outputs": [],
   "source": [
    "import pandas as pd\n",
    "import matplotlib as plt\n",
    "import numpy as np\n",
    "from joblib import dump\n",
    "\n",
    "from sklearn.model_selection import cross_val_predict\n",
    "from sklearn.metrics import classification_report\n",
    "from sklearn.metrics import confusion_matrix, ConfusionMatrixDisplay"
   ]
  },
  {
   "cell_type": "code",
   "execution_count": 2,
   "metadata": {},
   "outputs": [],
   "source": [
    "train_label1 = pd.read_csv('/home/goblin1732/Desktop/iMa_linux/train_label1.csv',index_col=[0,1])\n",
    "test_label1 = pd.read_csv('/home/goblin1732/Desktop/iMa_linux/test_label1.csv',index_col=[0,1])"
   ]
  },
  {
   "cell_type": "code",
   "execution_count": 3,
   "metadata": {},
   "outputs": [],
   "source": [
    "train_group1 = pd.read_csv('/home/goblin1732/Desktop/iMa_linux/train_group1.csv',index_col=[0,1])\n",
    "test_group1 = pd.read_csv('/home/goblin1732/Desktop/iMa_linux/test_group1.csv',index_col=[0,1])"
   ]
  },
  {
   "cell_type": "code",
   "execution_count": 4,
   "metadata": {},
   "outputs": [],
   "source": [
    "std_pca_poly_train = np.load('/home/goblin1732/Desktop/iMa_linux/std_pca_poly_train.npy',allow_pickle=False)\n",
    "std_pca_poly_test = np.load('/home/goblin1732/Desktop/iMa_linux/std_pca_poly_test.npy',allow_pickle=False)"
   ]
  },
  {
   "cell_type": "markdown",
   "metadata": {},
   "source": [
    "# classifiers without meta-estimator method"
   ]
  },
  {
   "cell_type": "markdown",
   "metadata": {},
   "source": [
    "## logit "
   ]
  },
  {
   "cell_type": "code",
   "execution_count": null,
   "metadata": {},
   "outputs": [
    {
     "name": "stderr",
     "output_type": "stream",
     "text": [
      "[Parallel(n_jobs=7)]: Using backend LokyBackend with 7 concurrent workers.\n",
      "[Parallel(n_jobs=7)]: Done   1 out of   1 | elapsed: 28.9min finished\n",
      "[Parallel(n_jobs=7)]: Using backend LokyBackend with 7 concurrent workers.\n"
     ]
    }
   ],
   "source": [
    "from sklearn.linear_model import LogisticRegression\n",
    "\n",
    "logreg= LogisticRegression(max_iter=2000,penalty='l2',solver='lbfgs', tol=1e-7,class_weight = 'balanced',warm_start=False, verbose=3,n_jobs=7)\n",
    "logreg.fit(std_pca_poly_train,np.ravel(train_label1))\n",
    "\n",
    "prediction_logreg = cross_val_predict(logreg, std_pca_poly_test,test_label1, cv=3, n_jobs=7,verbose=3)\n",
    "print(classification_report(test_label1, prediction_logreg))"
   ]
  },
  {
   "cell_type": "code",
   "execution_count": null,
   "metadata": {
    "scrolled": true
   },
   "outputs": [],
   "source": [
    "cm_logreg = confusion_matrix(test_label1, prediction_logreg)\n",
    "disp = ConfusionMatrixDisplay(confusion_matrix=cm_logreg)\n",
    "disp.plot() "
   ]
  },
  {
   "cell_type": "code",
   "execution_count": 7,
   "metadata": {},
   "outputs": [
    {
     "data": {
      "text/plain": [
       "['logreg_poly.joblib']"
      ]
     },
     "execution_count": 7,
     "metadata": {},
     "output_type": "execute_result"
    }
   ],
   "source": [
    "dump(logreg, 'logreg_poly.joblib') "
   ]
  },
  {
   "cell_type": "markdown",
   "metadata": {},
   "source": [
    "## multi layer perceptron"
   ]
  },
  {
   "cell_type": "code",
   "execution_count": 8,
   "metadata": {
    "scrolled": true
   },
   "outputs": [
    {
     "name": "stderr",
     "output_type": "stream",
     "text": [
      "/Users/mk2/opt/anaconda3/lib/python3.8/site-packages/sklearn/utils/validation.py:72: DataConversionWarning: A column-vector y was passed when a 1d array was expected. Please change the shape of y to (n_samples, ), for example using ravel().\n",
      "  return f(**kwargs)\n"
     ]
    },
    {
     "name": "stdout",
     "output_type": "stream",
     "text": [
      "              precision    recall  f1-score   support\n",
      "\n",
      "           0       0.79      0.94      0.86     11526\n",
      "           1       0.54      0.22      0.31      3618\n",
      "\n",
      "    accuracy                           0.77     15144\n",
      "   macro avg       0.67      0.58      0.59     15144\n",
      "weighted avg       0.73      0.77      0.73     15144\n",
      "\n"
     ]
    }
   ],
   "source": [
    "from sklearn.neural_network import MLPClassifier\n",
    "\n",
    "nn = MLPClassifier(hidden_layer_sizes=1000, activation='logistic', solver='adam', \n",
    "                   alpha=0.05, batch_size='auto', learning_rate='invscaling', \n",
    "                   learning_rate_init=0.001, power_t=0.5, max_iter=500, \n",
    "                   shuffle=True, random_state=None, tol=0.0001, verbose=None,\n",
    "                   warm_start=False, momentum=0.9, nesterovs_momentum=True, \n",
    "                   early_stopping=True, validation_fraction=0.1, beta_1=0.9, \n",
    "                   beta_2=0.999, epsilon=1e-08, n_iter_no_change=10, max_fun=15000)\n",
    "\n",
    "nn.fit(std_pca_poly_train,train_label1)\n",
    "\n",
    "prediction_nn = cross_val_predict(nn, std_pca_poly_test,test_label1, groups=test_group1, cv=5, n_jobs=3)\n",
    "print(classification_report(test_label1, prediction_nn))"
   ]
  },
  {
   "cell_type": "code",
   "execution_count": 9,
   "metadata": {},
   "outputs": [
    {
     "data": {
      "text/plain": [
       "<sklearn.metrics._plot.confusion_matrix.ConfusionMatrixDisplay at 0x7fc7358b9a60>"
      ]
     },
     "execution_count": 9,
     "metadata": {},
     "output_type": "execute_result"
    },
    {
     "data": {
      "image/png": "[encoded data removed]",
      "text/plain": [
       "<Figure size 432x288 with 2 Axes>"
      ]
     },
     "metadata": {
      "needs_background": "light"
     },
     "output_type": "display_data"
    }
   ],
   "source": [
    "cm_nn = confusion_matrix(test_label1, prediction_nn)\n",
    "disp = ConfusionMatrixDisplay(confusion_matrix=cm_nn)\n",
    "disp.plot() "
   ]
  },
  {
   "cell_type": "code",
   "execution_count": 10,
   "metadata": {},
   "outputs": [
    {
     "data": {
      "text/plain": [
       "['nn.joblib']"
      ]
     },
     "execution_count": 10,
     "metadata": {},
     "output_type": "execute_result"
    }
   ],
   "source": [
    "dump(nn, 'nn.joblib') "
   ]
  },
  {
   "cell_type": "markdown",
   "metadata": {},
   "source": [
    "## gradient boost"
   ]
  },
  {
   "cell_type": "code",
   "execution_count": 16,
   "metadata": {},
   "outputs": [
    {
     "name": "stderr",
     "output_type": "stream",
     "text": [
      "/Users/mk2/opt/anaconda3/envs/no_base/lib/python3.8/site-packages/sklearn/utils/validation.py:63: DataConversionWarning: A column-vector y was passed when a 1d array was expected. Please change the shape of y to (n_samples, ), for example using ravel().\n",
      "  return f(*args, **kwargs)\n"
     ]
    },
    {
     "name": "stdout",
     "output_type": "stream",
     "text": [
      "              precision    recall  f1-score   support\n",
      "\n",
      "           0       0.80      0.94      0.87     11526\n",
      "           1       0.59      0.27      0.37      3618\n",
      "\n",
      "    accuracy                           0.78     15144\n",
      "   macro avg       0.70      0.61      0.62     15144\n",
      "weighted avg       0.75      0.78      0.75     15144\n",
      "\n"
     ]
    }
   ],
   "source": [
    "from sklearn.ensemble import GradientBoostingClassifier\n",
    "\n",
    "gbc = GradientBoostingClassifier(loss='deviance', learning_rate=0.1, n_estimators=100, subsample=1.0, \n",
    "                                 criterion='friedman_mse', min_samples_split=2, min_samples_leaf=1, \n",
    "                                 min_weight_fraction_leaf=0.0, max_depth=3, min_impurity_decrease=0.0, \n",
    "                                 min_impurity_split=None, init=None, random_state=None, max_features=None, \n",
    "                                 verbose=0, max_leaf_nodes=None, warm_start=False, validation_fraction=0.1, \n",
    "                                 n_iter_no_change=None, tol=0.0001, ccp_alpha=0.0)\n",
    "\n",
    "gbc.fit(std_pca_poly_train,train_label1)\n",
    "\n",
    "prediction_gbc = cross_val_predict(gbc, std_pca_poly_test,test_label1, groups=test_group1, cv=5, n_jobs=3)\n",
    "print(classification_report(test_label1, prediction_gbc))"
   ]
  },
  {
   "cell_type": "code",
   "execution_count": 17,
   "metadata": {},
   "outputs": [
    {
     "data": {
      "text/plain": [
       "<sklearn.metrics._plot.confusion_matrix.ConfusionMatrixDisplay at 0x7f806b211eb0>"
      ]
     },
     "execution_count": 17,
     "metadata": {},
     "output_type": "execute_result"
    },
    {
     "data": {
      "image/png": "[encoded data removed]",
      "text/plain": [
       "<Figure size 432x288 with 2 Axes>"
      ]
     },
     "metadata": {
      "needs_background": "light"
     },
     "output_type": "display_data"
    }
   ],
   "source": [
    "cm_gbc = confusion_matrix(test_label1, prediction_gbc)\n",
    "disp = ConfusionMatrixDisplay(confusion_matrix=cm_gbc)\n",
    "disp.plot() "
   ]
  },
  {
   "cell_type": "code",
   "execution_count": 18,
   "metadata": {},
   "outputs": [
    {
     "data": {
      "text/plain": [
       "['gbc.joblib']"
      ]
     },
     "execution_count": 18,
     "metadata": {},
     "output_type": "execute_result"
    }
   ],
   "source": [
    "dump(gbc, 'gbc.joblib') "
   ]
  },
  {
   "cell_type": "markdown",
   "metadata": {},
   "source": [
    "## decision tree"
   ]
  },
  {
   "cell_type": "code",
   "execution_count": 19,
   "metadata": {},
   "outputs": [
    {
     "name": "stdout",
     "output_type": "stream",
     "text": [
      "              precision    recall  f1-score   support\n",
      "\n",
      "           0       0.80      0.80      0.80     11526\n",
      "           1       0.36      0.35      0.35      3618\n",
      "\n",
      "    accuracy                           0.69     15144\n",
      "   macro avg       0.58      0.58      0.58     15144\n",
      "weighted avg       0.69      0.69      0.69     15144\n",
      "\n"
     ]
    }
   ],
   "source": [
    "from sklearn.tree import DecisionTreeClassifier\n",
    "\n",
    "dtc = DecisionTreeClassifier(criterion='gini', splitter='best', max_depth=None, min_samples_split=2, \n",
    "                             min_samples_leaf=1, min_weight_fraction_leaf=0.0, max_features=None, \n",
    "                             random_state=None, max_leaf_nodes=None, min_impurity_decrease=0.0, \n",
    "                             min_impurity_split=None, class_weight='balanced', ccp_alpha=0.0)\n",
    "\n",
    "dtc.fit(std_pca_poly_train,train_label1)\n",
    "\n",
    "prediction_dtc = cross_val_predict(dtc, std_pca_poly_test,test_label1, groups=test_group1, cv=5, n_jobs=3)\n",
    "print(classification_report(test_label1, prediction_dtc))"
   ]
  },
  {
   "cell_type": "code",
   "execution_count": 20,
   "metadata": {},
   "outputs": [
    {
     "data": {
      "text/plain": [
       "<sklearn.metrics._plot.confusion_matrix.ConfusionMatrixDisplay at 0x7f7f5174c6d0>"
      ]
     },
     "execution_count": 20,
     "metadata": {},
     "output_type": "execute_result"
    },
    {
     "data": {
      "image/png": "[encoded data removed]",
      "text/plain": [
       "<Figure size 432x288 with 2 Axes>"
      ]
     },
     "metadata": {
      "needs_background": "light"
     },
     "output_type": "display_data"
    }
   ],
   "source": [
    "cm_dtc = confusion_matrix(test_label1, prediction_dtc)\n",
    "disp = ConfusionMatrixDisplay(confusion_matrix=cm_dtc)\n",
    "disp.plot() "
   ]
  },
  {
   "cell_type": "code",
   "execution_count": 21,
   "metadata": {},
   "outputs": [
    {
     "data": {
      "text/plain": [
       "['dtc.joblib']"
      ]
     },
     "execution_count": 21,
     "metadata": {},
     "output_type": "execute_result"
    }
   ],
   "source": [
    "dump(dtc, 'dtc.joblib') "
   ]
  },
  {
   "cell_type": "markdown",
   "metadata": {},
   "source": [
    "## random forest "
   ]
  },
  {
   "cell_type": "code",
   "execution_count": 22,
   "metadata": {},
   "outputs": [
    {
     "name": "stderr",
     "output_type": "stream",
     "text": [
      "<ipython-input-22-99d917828388>:9: DataConversionWarning: A column-vector y was passed when a 1d array was expected. Please change the shape of y to (n_samples,), for example using ravel().\n",
      "  rfc.fit(std_pca_poly_train,train_label1)\n"
     ]
    },
    {
     "name": "stdout",
     "output_type": "stream",
     "text": [
      "              precision    recall  f1-score   support\n",
      "\n",
      "           0       0.80      0.94      0.86     11526\n",
      "           1       0.57      0.24      0.33      3618\n",
      "\n",
      "    accuracy                           0.78     15144\n",
      "   macro avg       0.68      0.59      0.60     15144\n",
      "weighted avg       0.74      0.78      0.74     15144\n",
      "\n"
     ]
    }
   ],
   "source": [
    "from sklearn.ensemble import RandomForestClassifier\n",
    "\n",
    "rfc = RandomForestClassifier(n_estimators=100, criterion='gini', max_depth=None, min_samples_split=2, \n",
    "                             min_samples_leaf=1, min_weight_fraction_leaf=0.0, max_features='auto', \n",
    "                             max_leaf_nodes=None, min_impurity_decrease=0.0, min_impurity_split=None, \n",
    "                             bootstrap=True, oob_score=False, n_jobs=None, random_state=None, verbose=0, \n",
    "                             warm_start=False, class_weight='balanced', ccp_alpha=0.0, max_samples=None)\n",
    "\n",
    "rfc.fit(std_pca_poly_train,train_label1)\n",
    "\n",
    "prediction_rfc = cross_val_predict(rfc, std_pca_poly_test,test_label1, groups=test_group1, cv=5, n_jobs=3)\n",
    "print(classification_report(test_label1, prediction_rfc))"
   ]
  },
  {
   "cell_type": "code",
   "execution_count": 23,
   "metadata": {},
   "outputs": [
    {
     "data": {
      "text/plain": [
       "<sklearn.metrics._plot.confusion_matrix.ConfusionMatrixDisplay at 0x7f7f51553c40>"
      ]
     },
     "execution_count": 23,
     "metadata": {},
     "output_type": "execute_result"
    },
    {
     "data": {
      "image/png": "[encoded data removed]",
      "text/plain": [
       "<Figure size 432x288 with 2 Axes>"
      ]
     },
     "metadata": {
      "needs_background": "light"
     },
     "output_type": "display_data"
    }
   ],
   "source": [
    "cm_rfc = confusion_matrix(test_label1, prediction_rfc)\n",
    "disp = ConfusionMatrixDisplay(confusion_matrix=cm_rfc)\n",
    "disp.plot() "
   ]
  },
  {
   "cell_type": "code",
   "execution_count": 24,
   "metadata": {},
   "outputs": [
    {
     "data": {
      "text/plain": [
       "['rfc.joblib']"
      ]
     },
     "execution_count": 24,
     "metadata": {},
     "output_type": "execute_result"
    }
   ],
   "source": [
    "dump(rfc, 'rfc.joblib') "
   ]
  },
  {
   "cell_type": "markdown",
   "metadata": {},
   "source": [
    "## stochastic gradient"
   ]
  },
  {
   "cell_type": "code",
   "execution_count": 25,
   "metadata": {},
   "outputs": [
    {
     "name": "stderr",
     "output_type": "stream",
     "text": [
      "/Users/mk2/opt/anaconda3/envs/no_base/lib/python3.8/site-packages/sklearn/utils/validation.py:63: DataConversionWarning: A column-vector y was passed when a 1d array was expected. Please change the shape of y to (n_samples, ), for example using ravel().\n",
      "  return f(*args, **kwargs)\n"
     ]
    },
    {
     "name": "stdout",
     "output_type": "stream",
     "text": [
      "              precision    recall  f1-score   support\n",
      "\n",
      "           0       0.87      0.55      0.68     11526\n",
      "           1       0.34      0.74      0.47      3618\n",
      "\n",
      "    accuracy                           0.60     15144\n",
      "   macro avg       0.61      0.65      0.57     15144\n",
      "weighted avg       0.74      0.60      0.63     15144\n",
      "\n"
     ]
    }
   ],
   "source": [
    "from sklearn.linear_model import SGDClassifier\n",
    "\n",
    "sgdc = SGDClassifier(loss='hinge', penalty='l2', alpha=0.0001, l1_ratio=0.15, fit_intercept=True, \n",
    "                     max_iter=1000, tol=0.001, shuffle=True, verbose=0, epsilon=0.1, n_jobs=None, \n",
    "                     random_state=None, learning_rate='optimal', eta0=0.0, power_t=0.5, \n",
    "                     early_stopping=False, validation_fraction=0.1, n_iter_no_change=5, \n",
    "                     class_weight='balanced', warm_start=False, average=False)\n",
    "\n",
    "sgdc.fit(std_pca_poly_train,train_label1)\n",
    "\n",
    "prediction_sgdc = cross_val_predict(sgdc, std_pca_poly_test,test_label1, groups=test_group1, cv=5, n_jobs=3)\n",
    "print(classification_report(test_label1, prediction_sgdc))"
   ]
  },
  {
   "cell_type": "code",
   "execution_count": 26,
   "metadata": {},
   "outputs": [
    {
     "data": {
      "text/plain": [
       "<sklearn.metrics._plot.confusion_matrix.ConfusionMatrixDisplay at 0x7f7f51c9d8e0>"
      ]
     },
     "execution_count": 26,
     "metadata": {},
     "output_type": "execute_result"
    },
    {
     "data": {
      "image/png": "[encoded data removed]",
      "text/plain": [
       "<Figure size 432x288 with 2 Axes>"
      ]
     },
     "metadata": {
      "needs_background": "light"
     },
     "output_type": "display_data"
    }
   ],
   "source": [
    "cm_sgdc = confusion_matrix(test_label1, prediction_sgdc)\n",
    "disp = ConfusionMatrixDisplay(confusion_matrix=cm_sgdc)\n",
    "disp.plot() "
   ]
  },
  {
   "cell_type": "code",
   "execution_count": 27,
   "metadata": {},
   "outputs": [
    {
     "data": {
      "text/plain": [
       "['sgdc.joblib']"
      ]
     },
     "execution_count": 27,
     "metadata": {},
     "output_type": "execute_result"
    }
   ],
   "source": [
    "dump(sgdc, 'sgdc.joblib') "
   ]
  },
  {
   "cell_type": "markdown",
   "metadata": {},
   "source": [
    "## support vector machine"
   ]
  },
  {
   "cell_type": "code",
   "execution_count": null,
   "metadata": {},
   "outputs": [
    {
     "name": "stderr",
     "output_type": "stream",
     "text": [
      "/Users/mk2/opt/anaconda3/envs/no_base/lib/python3.8/site-packages/sklearn/utils/validation.py:63: DataConversionWarning: A column-vector y was passed when a 1d array was expected. Please change the shape of y to (n_samples, ), for example using ravel().\n",
      "  return f(*args, **kwargs)\n"
     ]
    }
   ],
   "source": [
    "from sklearn.svm import LinearSVC\n",
    "\n",
    "lsvc = LinearSVC(penalty='l2', loss='squared_hinge',dual=True, tol=0.0001, C=1.0, \n",
    "                 multi_class='ovr', fit_intercept=True, intercept_scaling=1, class_weight='balanced', \n",
    "                 verbose=0, random_state=None, max_iter=1000)\n",
    "\n",
    "lsvc.fit(std_pca_poly_train,train_label1)\n",
    "\n",
    "prediction_lsvc = cross_val_predict(lsvc, std_pca_poly_test,test_label1, groups=test_group1, cv=5, n_jobs=3)\n",
    "print(classification_report(test_label1, prediction_lsvc))"
   ]
  },
  {
   "cell_type": "code",
   "execution_count": null,
   "metadata": {},
   "outputs": [],
   "source": [
    "cm_lsvc = confusion_matrix(test_label1, prediction_lsvc)\n",
    "disp = ConfusionMatrixDisplay(confusion_matrix=cm_lsvc)\n",
    "disp.plot() "
   ]
  },
  {
   "cell_type": "code",
   "execution_count": null,
   "metadata": {},
   "outputs": [],
   "source": [
    "dump(lsvc, 'lsvc.joblib') "
   ]
  },
  {
   "cell_type": "markdown",
   "metadata": {},
   "source": [
    "## passive agressive clf"
   ]
  },
  {
   "cell_type": "code",
   "execution_count": null,
   "metadata": {},
   "outputs": [],
   "source": [
    "from sklearn.linear_model import PassiveAggressiveClassifier\n",
    "\n",
    "pac = PassiveAggressiveClassifier(C=1.0, fit_intercept=True, max_iter=1000, tol=0.001, early_stopping=False, \n",
    "                                  validation_fraction=0.1, n_iter_no_change=5, shuffle=True, verbose=0, \n",
    "                                  loss='hinge', n_jobs=None, random_state=None, warm_start=False, \n",
    "                                  class_weight='balanced', average=False)\n",
    "\n",
    "pac.fit(std_pca_poly_train,train_label1)\n",
    "\n",
    "prediction_pac = cross_val_predict(pac, std_pca_poly_test,test_label1, groups=test_group1, cv=5, n_jobs=3)\n",
    "print(classification_report(test_label1, prediction_pac))"
   ]
  },
  {
   "cell_type": "code",
   "execution_count": null,
   "metadata": {},
   "outputs": [],
   "source": [
    "cm_pac = confusion_matrix(test_label1, prediction_pac)\n",
    "disp = ConfusionMatrixDisplay(confusion_matrix=cm_pac)\n",
    "disp.plot() "
   ]
  },
  {
   "cell_type": "code",
   "execution_count": null,
   "metadata": {},
   "outputs": [],
   "source": [
    "dump(pac, 'pac.joblib') "
   ]
  },
  {
   "cell_type": "markdown",
   "metadata": {},
   "source": [
    "## ridge"
   ]
  },
  {
   "cell_type": "code",
   "execution_count": null,
   "metadata": {},
   "outputs": [],
   "source": [
    "from sklearn.linear_model import RidgeClassifier\n",
    "\n",
    "rdgc = RidgeClassifier(alpha=1.0, fit_intercept=True, normalize=False, copy_X=True, max_iter=None, \n",
    "                       tol=0.001, class_weight='balanced', solver='auto', random_state=None)\n",
    "\n",
    "rdgc.fit(std_pca_poly_train,train_label1)\n",
    "\n",
    "prediction_rdgc = cross_val_predict(rdgc, std_pca_poly_test,test_label1, groups=test_group1, cv=5, n_jobs=3)\n",
    "print(classification_report(test_label1, prediction_rdgc))"
   ]
  },
  {
   "cell_type": "code",
   "execution_count": null,
   "metadata": {},
   "outputs": [],
   "source": [
    "cm_rdgc = confusion_matrix(test_label1, prediction_rdgc)\n",
    "disp = ConfusionMatrixDisplay(confusion_matrix=cm_rdgc)\n",
    "disp.plot() "
   ]
  },
  {
   "cell_type": "code",
   "execution_count": null,
   "metadata": {},
   "outputs": [],
   "source": [
    "dump(rdgc, 'rdgc.joblib') "
   ]
  },
  {
   "cell_type": "markdown",
   "metadata": {},
   "source": [
    "## hist grad boost"
   ]
  },
  {
   "cell_type": "code",
   "execution_count": null,
   "metadata": {},
   "outputs": [],
   "source": [
    "from sklearn.experimental import enable_hist_gradient_boosting\n",
    "from sklearn.ensemble import HistGradientBoostingClassifier\n",
    "\n",
    "hgbc = HistGradientBoostingClassifier(loss='auto',learning_rate=0.1, max_iter=100, max_leaf_nodes=31, \n",
    "                                      max_depth=None, min_samples_leaf=20, l2_regularization=0.0, max_bins=255, \n",
    "                                      monotonic_cst=None, warm_start=False, \n",
    "                                      early_stopping='auto', scoring='loss', validation_fraction=0.1, \n",
    "                                      n_iter_no_change=10, tol=1e-07, verbose=0, random_state=None)\n",
    "\n",
    "hgbc.fit(std_pca_poly_train,train_label1)\n",
    "\n",
    "prediction_hgbc = cross_val_predict(hgbc, std_pca_poly_test,test_label1, groups=test_group1, cv=5, n_jobs=3)\n",
    "print(classification_report(test_label1, prediction_hgbc))"
   ]
  },
  {
   "cell_type": "code",
   "execution_count": null,
   "metadata": {},
   "outputs": [],
   "source": [
    "cm_hgbc = confusion_matrix(test_label1, prediction_hgbc)\n",
    "disp = ConfusionMatrixDisplay(confusion_matrix=cm_hgbc)\n",
    "disp.plot() "
   ]
  },
  {
   "cell_type": "code",
   "execution_count": null,
   "metadata": {},
   "outputs": [],
   "source": [
    "dump(hgbc, 'hgbc_poly.joblib') "
   ]
  },
  {
   "cell_type": "markdown",
   "metadata": {},
   "source": [
    "## Result Comparison"
   ]
  },
  {
   "cell_type": "code",
   "execution_count": null,
   "metadata": {},
   "outputs": [],
   "source": [
    "ConfusionMatrixDisplay(confusion_matrix=cm_logreg).plot()\n",
    "ConfusionMatrixDisplay(confusion_matrix=cm_nn).plot()\n",
    "ConfusionMatrixDisplay(confusion_matrix=cm_gbc).plot()\n",
    "ConfusionMatrixDisplay(confusion_matrix=cm_dtc).plot()\n",
    "ConfusionMatrixDisplay(confusion_matrix=cm_rfc).plot()\n",
    "ConfusionMatrixDisplay(confusion_matrix=cm_sgdc).plot()\n",
    "ConfusionMatrixDisplay(confusion_matrix=cm_lsvc).plot()\n",
    "ConfusionMatrixDisplay(confusion_matrix=cm_pac).plot()\n",
    "ConfusionMatrixDisplay(confusion_matrix=cm_rdgc).plot()\n",
    "ConfusionMatrixDisplay(confusion_matrix=cm_hgbc).plot()"
   ]
  },
  {
   "cell_type": "code",
   "execution_count": null,
   "metadata": {},
   "outputs": [],
   "source": []
  },
  {
   "cell_type": "code",
   "execution_count": null,
   "metadata": {},
   "outputs": [],
   "source": []
  },
  {
   "cell_type": "code",
   "execution_count": null,
   "metadata": {},
   "outputs": [],
   "source": []
  },
  {
   "cell_type": "code",
   "execution_count": null,
   "metadata": {},
   "outputs": [],
   "source": []
  },
  {
   "cell_type": "code",
   "execution_count": null,
   "metadata": {},
   "outputs": [],
   "source": []
  },
  {
   "cell_type": "code",
   "execution_count": null,
   "metadata": {},
   "outputs": [],
   "source": []
  },
  {
   "cell_type": "code",
   "execution_count": null,
   "metadata": {},
   "outputs": [],
   "source": []
  },
  {
   "cell_type": "code",
   "execution_count": null,
   "metadata": {},
   "outputs": [],
   "source": []
  },
  {
   "cell_type": "code",
   "execution_count": null,
   "metadata": {},
   "outputs": [],
   "source": []
  },
  {
   "cell_type": "code",
   "execution_count": null,
   "metadata": {},
   "outputs": [],
   "source": []
  },
  {
   "cell_type": "code",
   "execution_count": null,
   "metadata": {},
   "outputs": [],
   "source": []
  }
 ],
 "metadata": {
  "kernelspec": {
   "display_name": "Python 3",
   "language": "python",
   "name": "python3"
  },
  "language_info": {
   "codemirror_mode": {
    "name": "ipython",
    "version": 3
   },
   "file_extension": ".py",
   "mimetype": "text/x-python",
   "name": "python",
   "nbconvert_exporter": "python",
   "pygments_lexer": "ipython3",
   "version": "3.8.5"
  }
 },
 "nbformat": 4,
 "nbformat_minor": 4
}
