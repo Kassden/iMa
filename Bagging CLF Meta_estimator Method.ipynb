{
 "cells": [
  {
   "cell_type": "code",
   "execution_count": 1,
   "metadata": {},
   "outputs": [],
   "source": [
    "import matplotlib as plt\n",
    "import numpy as np\n",
    "import pandas as pd\n",
    "\n",
    "from joblib import load\n",
    "\n",
    "from sklearn.model_selection import cross_val_predict\n",
    "from sklearn.metrics import confusion_matrix\n",
    "from sklearn.metrics import classification_report\n",
    "from sklearn.metrics import confusion_matrix, ConfusionMatrixDisplay"
   ]
  },
  {
   "cell_type": "code",
   "execution_count": 2,
   "metadata": {},
   "outputs": [],
   "source": [
    "logreg_import = load('logreg_poly.joblib')\n",
    "neural_import = load('nn.joblib')\n",
    "gradient_import = load('gbc.joblib')\n",
    "decitree_import = load('dtc.joblib')\n",
    "randofor_import = load('rfc.joblib')\n",
    "stocha_import = load('sgdc.joblib')\n",
    "linsvm_import = load('lsvc.joblib')\n",
    "passaggr_import = load('pac.joblib')\n",
    "ridgy_import = load('rdgc.joblib')\n",
    "hisgra_import = load('hgbc_poly.joblib')\n",
    "\n",
    "poly_std_train = np.load('/Users/mk2/Desktop/iMa/Model/std_pca_poly_train.npy')\n",
    "poly_std_test = np.load('/Users/mk2/Desktop/iMa/Model/std_pca_poly_test.npy')\n",
    "\n",
    "train_group1 = pd.read_csv('/Users/mk2/Desktop/iMa/Model/train_group1.csv',index_col=[0,1])\n",
    "test_group1 = pd.read_csv('/Users/mk2/Desktop/iMa/Model/test_group1.csv',index_col=[0,1])\n",
    "\n",
    "train_label1 = pd.read_csv('/Users/mk2/Desktop/iMa/Model/train_label1.csv',index_col=[0,1])\n",
    "test_label1 = pd.read_csv('/Users/mk2/Desktop/iMa/Model/test_label1.csv',index_col=[0,1])"
   ]
  },
  {
   "cell_type": "code",
   "execution_count": 3,
   "metadata": {},
   "outputs": [],
   "source": [
    "from sklearn.ensemble import BaggingClassifier"
   ]
  },
  {
   "cell_type": "code",
   "execution_count": null,
   "metadata": {},
   "outputs": [],
   "source": []
  }
 ],
 "metadata": {
  "kernelspec": {
   "display_name": "Python 3",
   "language": "python",
   "name": "python3"
  },
  "language_info": {
   "codemirror_mode": {
    "name": "ipython",
    "version": 3
   },
   "file_extension": ".py",
   "mimetype": "text/x-python",
   "name": "python",
   "nbconvert_exporter": "python",
   "pygments_lexer": "ipython3",
   "version": "3.8.5"
  }
 },
 "nbformat": 4,
 "nbformat_minor": 4
}
